{
  "cells": [
    {
      "cell_type": "markdown",
      "metadata": {
        "id": "view-in-github",
        "colab_type": "text"
      },
      "source": [
        "<a href=\"https://colab.research.google.com/github/ArmandFS/8input-xor-mcpit-ANN/blob/main/PeduliHIV_Hate_Speech.ipynb\" target=\"_parent\"><img src=\"https://colab.research.google.com/assets/colab-badge.svg\" alt=\"Open In Colab\"/></a>"
      ]
    },
    {
      "cell_type": "code",
      "source": [
        "from google.colab import drive\n",
        "drive.mount('/content/drive')"
      ],
      "metadata": {
        "colab": {
          "base_uri": "https://localhost:8080/"
        },
        "id": "3_jCv9JWoCUN",
        "outputId": "53d3cba7-e381-492b-f973-ed16ffd0cb53"
      },
      "execution_count": null,
      "outputs": [
        {
          "output_type": "stream",
          "name": "stdout",
          "text": [
            "Mounted at /content/drive\n"
          ]
        }
      ]
    },
    {
      "cell_type": "code",
      "execution_count": null,
      "metadata": {
        "id": "lkKO3oN8n7LJ"
      },
      "outputs": [],
      "source": [
        "import os\n",
        "import re\n",
        "import string\n",
        "\n",
        "import pandas as pd\n",
        "import numpy as np\n",
        "\n",
        "from collections import Counter\n",
        "\n",
        "import sklearn\n",
        "from sklearn.model_selection import train_test_split\n",
        "from sklearn.metrics import classification_report\n",
        "\n",
        "import tensorflow as tf\n",
        "from tensorflow.keras import layers\n",
        "from tensorflow.keras import losses\n",
        "from tensorflow.keras import regularizers\n",
        "from tensorflow.keras import preprocessing\n",
        "from tensorflow.keras.preprocessing.text import Tokenizer\n",
        "from tensorflow.keras.preprocessing.sequence import pad_sequences\n",
        "\n",
        "import matplotlib as mpl\n",
        "import matplotlib.pyplot as plt\n",
        "import seaborn as sns\n",
        "\n",
        "\n",
        "import warnings\n",
        "warnings.filterwarnings('ignore')\n",
        "\n",
        "os.chdir(\"/content/drive/Shareddrives/CAPSTONE BANGKIT 2023/Machine Learning/Hate Speech 2\")"
      ]
    },
    {
      "cell_type": "code",
      "execution_count": null,
      "metadata": {
        "colab": {
          "base_uri": "https://localhost:8080/",
          "height": 424
        },
        "id": "v9ONKTJan7LR",
        "outputId": "7efcb63d-fa44-4909-dea6-fdadfb44fbcb"
      },
      "outputs": [
        {
          "output_type": "execute_result",
          "data": {
            "text/plain": [
              "       label                                              tweet\n",
              "0          1  - disaat semua cowok berusaha melacak perhatia...\n",
              "1          1  RT USER: USER siapa yang telat ngasih tau elu?...\n",
              "2          0  41. Kadang aku berfikir, kenapa aku tetap perc...\n",
              "3          0  USER USER AKU ITU AKU\\n\\nKU TAU MATAMU SIPIT T...\n",
              "4          1  USER USER Kaum cebong kapir udah keliatan dong...\n",
              "...      ...                                                ...\n",
              "13164      1  USER jangan asal ngomong ndasmu. congor lu yg ...\n",
              "13165      1                       USER Kasur mana enak kunyuk'\n",
              "13166      0  USER Hati hati bisu :( .g\\n\\nlagi bosan huft \\...\n",
              "13167      0  USER USER USER USER Bom yang real mudah terdet...\n",
              "13168      1  USER Mana situ ngasih(\": itu cuma foto ya kuti...\n",
              "\n",
              "[13169 rows x 2 columns]"
            ],
            "text/html": [
              "\n",
              "  <div id=\"df-e1532fce-68f8-4d59-9d0b-b34afb6597aa\">\n",
              "    <div class=\"colab-df-container\">\n",
              "      <div>\n",
              "<style scoped>\n",
              "    .dataframe tbody tr th:only-of-type {\n",
              "        vertical-align: middle;\n",
              "    }\n",
              "\n",
              "    .dataframe tbody tr th {\n",
              "        vertical-align: top;\n",
              "    }\n",
              "\n",
              "    .dataframe thead th {\n",
              "        text-align: right;\n",
              "    }\n",
              "</style>\n",
              "<table border=\"1\" class=\"dataframe\">\n",
              "  <thead>\n",
              "    <tr style=\"text-align: right;\">\n",
              "      <th></th>\n",
              "      <th>label</th>\n",
              "      <th>tweet</th>\n",
              "    </tr>\n",
              "  </thead>\n",
              "  <tbody>\n",
              "    <tr>\n",
              "      <th>0</th>\n",
              "      <td>1</td>\n",
              "      <td>- disaat semua cowok berusaha melacak perhatia...</td>\n",
              "    </tr>\n",
              "    <tr>\n",
              "      <th>1</th>\n",
              "      <td>1</td>\n",
              "      <td>RT USER: USER siapa yang telat ngasih tau elu?...</td>\n",
              "    </tr>\n",
              "    <tr>\n",
              "      <th>2</th>\n",
              "      <td>0</td>\n",
              "      <td>41. Kadang aku berfikir, kenapa aku tetap perc...</td>\n",
              "    </tr>\n",
              "    <tr>\n",
              "      <th>3</th>\n",
              "      <td>0</td>\n",
              "      <td>USER USER AKU ITU AKU\\n\\nKU TAU MATAMU SIPIT T...</td>\n",
              "    </tr>\n",
              "    <tr>\n",
              "      <th>4</th>\n",
              "      <td>1</td>\n",
              "      <td>USER USER Kaum cebong kapir udah keliatan dong...</td>\n",
              "    </tr>\n",
              "    <tr>\n",
              "      <th>...</th>\n",
              "      <td>...</td>\n",
              "      <td>...</td>\n",
              "    </tr>\n",
              "    <tr>\n",
              "      <th>13164</th>\n",
              "      <td>1</td>\n",
              "      <td>USER jangan asal ngomong ndasmu. congor lu yg ...</td>\n",
              "    </tr>\n",
              "    <tr>\n",
              "      <th>13165</th>\n",
              "      <td>1</td>\n",
              "      <td>USER Kasur mana enak kunyuk'</td>\n",
              "    </tr>\n",
              "    <tr>\n",
              "      <th>13166</th>\n",
              "      <td>0</td>\n",
              "      <td>USER Hati hati bisu :( .g\\n\\nlagi bosan huft \\...</td>\n",
              "    </tr>\n",
              "    <tr>\n",
              "      <th>13167</th>\n",
              "      <td>0</td>\n",
              "      <td>USER USER USER USER Bom yang real mudah terdet...</td>\n",
              "    </tr>\n",
              "    <tr>\n",
              "      <th>13168</th>\n",
              "      <td>1</td>\n",
              "      <td>USER Mana situ ngasih(\": itu cuma foto ya kuti...</td>\n",
              "    </tr>\n",
              "  </tbody>\n",
              "</table>\n",
              "<p>13169 rows × 2 columns</p>\n",
              "</div>\n",
              "      <button class=\"colab-df-convert\" onclick=\"convertToInteractive('df-e1532fce-68f8-4d59-9d0b-b34afb6597aa')\"\n",
              "              title=\"Convert this dataframe to an interactive table.\"\n",
              "              style=\"display:none;\">\n",
              "        \n",
              "  <svg xmlns=\"http://www.w3.org/2000/svg\" height=\"24px\"viewBox=\"0 0 24 24\"\n",
              "       width=\"24px\">\n",
              "    <path d=\"M0 0h24v24H0V0z\" fill=\"none\"/>\n",
              "    <path d=\"M18.56 5.44l.94 2.06.94-2.06 2.06-.94-2.06-.94-.94-2.06-.94 2.06-2.06.94zm-11 1L8.5 8.5l.94-2.06 2.06-.94-2.06-.94L8.5 2.5l-.94 2.06-2.06.94zm10 10l.94 2.06.94-2.06 2.06-.94-2.06-.94-.94-2.06-.94 2.06-2.06.94z\"/><path d=\"M17.41 7.96l-1.37-1.37c-.4-.4-.92-.59-1.43-.59-.52 0-1.04.2-1.43.59L10.3 9.45l-7.72 7.72c-.78.78-.78 2.05 0 2.83L4 21.41c.39.39.9.59 1.41.59.51 0 1.02-.2 1.41-.59l7.78-7.78 2.81-2.81c.8-.78.8-2.07 0-2.86zM5.41 20L4 18.59l7.72-7.72 1.47 1.35L5.41 20z\"/>\n",
              "  </svg>\n",
              "      </button>\n",
              "      \n",
              "  <style>\n",
              "    .colab-df-container {\n",
              "      display:flex;\n",
              "      flex-wrap:wrap;\n",
              "      gap: 12px;\n",
              "    }\n",
              "\n",
              "    .colab-df-convert {\n",
              "      background-color: #E8F0FE;\n",
              "      border: none;\n",
              "      border-radius: 50%;\n",
              "      cursor: pointer;\n",
              "      display: none;\n",
              "      fill: #1967D2;\n",
              "      height: 32px;\n",
              "      padding: 0 0 0 0;\n",
              "      width: 32px;\n",
              "    }\n",
              "\n",
              "    .colab-df-convert:hover {\n",
              "      background-color: #E2EBFA;\n",
              "      box-shadow: 0px 1px 2px rgba(60, 64, 67, 0.3), 0px 1px 3px 1px rgba(60, 64, 67, 0.15);\n",
              "      fill: #174EA6;\n",
              "    }\n",
              "\n",
              "    [theme=dark] .colab-df-convert {\n",
              "      background-color: #3B4455;\n",
              "      fill: #D2E3FC;\n",
              "    }\n",
              "\n",
              "    [theme=dark] .colab-df-convert:hover {\n",
              "      background-color: #434B5C;\n",
              "      box-shadow: 0px 1px 3px 1px rgba(0, 0, 0, 0.15);\n",
              "      filter: drop-shadow(0px 1px 2px rgba(0, 0, 0, 0.3));\n",
              "      fill: #FFFFFF;\n",
              "    }\n",
              "  </style>\n",
              "\n",
              "      <script>\n",
              "        const buttonEl =\n",
              "          document.querySelector('#df-e1532fce-68f8-4d59-9d0b-b34afb6597aa button.colab-df-convert');\n",
              "        buttonEl.style.display =\n",
              "          google.colab.kernel.accessAllowed ? 'block' : 'none';\n",
              "\n",
              "        async function convertToInteractive(key) {\n",
              "          const element = document.querySelector('#df-e1532fce-68f8-4d59-9d0b-b34afb6597aa');\n",
              "          const dataTable =\n",
              "            await google.colab.kernel.invokeFunction('convertToInteractive',\n",
              "                                                     [key], {});\n",
              "          if (!dataTable) return;\n",
              "\n",
              "          const docLinkHtml = 'Like what you see? Visit the ' +\n",
              "            '<a target=\"_blank\" href=https://colab.research.google.com/notebooks/data_table.ipynb>data table notebook</a>'\n",
              "            + ' to learn more about interactive tables.';\n",
              "          element.innerHTML = '';\n",
              "          dataTable['output_type'] = 'display_data';\n",
              "          await google.colab.output.renderOutput(dataTable, element);\n",
              "          const docLink = document.createElement('div');\n",
              "          docLink.innerHTML = docLinkHtml;\n",
              "          element.appendChild(docLink);\n",
              "        }\n",
              "      </script>\n",
              "    </div>\n",
              "  </div>\n",
              "  "
            ]
          },
          "metadata": {},
          "execution_count": 4
        }
      ],
      "source": [
        "main_data=pd.read_csv(\"train2.csv\")\n",
        "data=main_data.copy()\n",
        "data.drop(columns=['id'],axis=1,inplace=True)\n",
        "data"
      ]
    },
    {
      "cell_type": "code",
      "execution_count": null,
      "metadata": {
        "colab": {
          "base_uri": "https://localhost:8080/",
          "height": 564
        },
        "id": "06dWHIQ1n7LU",
        "outputId": "453cba27-7537-4e2d-95e6-91f8302f5df0"
      },
      "outputs": [
        {
          "output_type": "display_data",
          "data": {
            "text/plain": [
              "   label\n",
              "1   7309\n",
              "0   5860"
            ],
            "text/html": [
              "\n",
              "  <div id=\"df-008afb2e-b2cb-488b-aaa1-26ec8ec0361d\">\n",
              "    <div class=\"colab-df-container\">\n",
              "      <div>\n",
              "<style scoped>\n",
              "    .dataframe tbody tr th:only-of-type {\n",
              "        vertical-align: middle;\n",
              "    }\n",
              "\n",
              "    .dataframe tbody tr th {\n",
              "        vertical-align: top;\n",
              "    }\n",
              "\n",
              "    .dataframe thead th {\n",
              "        text-align: right;\n",
              "    }\n",
              "</style>\n",
              "<table border=\"1\" class=\"dataframe\">\n",
              "  <thead>\n",
              "    <tr style=\"text-align: right;\">\n",
              "      <th></th>\n",
              "      <th>label</th>\n",
              "    </tr>\n",
              "  </thead>\n",
              "  <tbody>\n",
              "    <tr>\n",
              "      <th>1</th>\n",
              "      <td>7309</td>\n",
              "    </tr>\n",
              "    <tr>\n",
              "      <th>0</th>\n",
              "      <td>5860</td>\n",
              "    </tr>\n",
              "  </tbody>\n",
              "</table>\n",
              "</div>\n",
              "      <button class=\"colab-df-convert\" onclick=\"convertToInteractive('df-008afb2e-b2cb-488b-aaa1-26ec8ec0361d')\"\n",
              "              title=\"Convert this dataframe to an interactive table.\"\n",
              "              style=\"display:none;\">\n",
              "        \n",
              "  <svg xmlns=\"http://www.w3.org/2000/svg\" height=\"24px\"viewBox=\"0 0 24 24\"\n",
              "       width=\"24px\">\n",
              "    <path d=\"M0 0h24v24H0V0z\" fill=\"none\"/>\n",
              "    <path d=\"M18.56 5.44l.94 2.06.94-2.06 2.06-.94-2.06-.94-.94-2.06-.94 2.06-2.06.94zm-11 1L8.5 8.5l.94-2.06 2.06-.94-2.06-.94L8.5 2.5l-.94 2.06-2.06.94zm10 10l.94 2.06.94-2.06 2.06-.94-2.06-.94-.94-2.06-.94 2.06-2.06.94z\"/><path d=\"M17.41 7.96l-1.37-1.37c-.4-.4-.92-.59-1.43-.59-.52 0-1.04.2-1.43.59L10.3 9.45l-7.72 7.72c-.78.78-.78 2.05 0 2.83L4 21.41c.39.39.9.59 1.41.59.51 0 1.02-.2 1.41-.59l7.78-7.78 2.81-2.81c.8-.78.8-2.07 0-2.86zM5.41 20L4 18.59l7.72-7.72 1.47 1.35L5.41 20z\"/>\n",
              "  </svg>\n",
              "      </button>\n",
              "      \n",
              "  <style>\n",
              "    .colab-df-container {\n",
              "      display:flex;\n",
              "      flex-wrap:wrap;\n",
              "      gap: 12px;\n",
              "    }\n",
              "\n",
              "    .colab-df-convert {\n",
              "      background-color: #E8F0FE;\n",
              "      border: none;\n",
              "      border-radius: 50%;\n",
              "      cursor: pointer;\n",
              "      display: none;\n",
              "      fill: #1967D2;\n",
              "      height: 32px;\n",
              "      padding: 0 0 0 0;\n",
              "      width: 32px;\n",
              "    }\n",
              "\n",
              "    .colab-df-convert:hover {\n",
              "      background-color: #E2EBFA;\n",
              "      box-shadow: 0px 1px 2px rgba(60, 64, 67, 0.3), 0px 1px 3px 1px rgba(60, 64, 67, 0.15);\n",
              "      fill: #174EA6;\n",
              "    }\n",
              "\n",
              "    [theme=dark] .colab-df-convert {\n",
              "      background-color: #3B4455;\n",
              "      fill: #D2E3FC;\n",
              "    }\n",
              "\n",
              "    [theme=dark] .colab-df-convert:hover {\n",
              "      background-color: #434B5C;\n",
              "      box-shadow: 0px 1px 3px 1px rgba(0, 0, 0, 0.15);\n",
              "      filter: drop-shadow(0px 1px 2px rgba(0, 0, 0, 0.3));\n",
              "      fill: #FFFFFF;\n",
              "    }\n",
              "  </style>\n",
              "\n",
              "      <script>\n",
              "        const buttonEl =\n",
              "          document.querySelector('#df-008afb2e-b2cb-488b-aaa1-26ec8ec0361d button.colab-df-convert');\n",
              "        buttonEl.style.display =\n",
              "          google.colab.kernel.accessAllowed ? 'block' : 'none';\n",
              "\n",
              "        async function convertToInteractive(key) {\n",
              "          const element = document.querySelector('#df-008afb2e-b2cb-488b-aaa1-26ec8ec0361d');\n",
              "          const dataTable =\n",
              "            await google.colab.kernel.invokeFunction('convertToInteractive',\n",
              "                                                     [key], {});\n",
              "          if (!dataTable) return;\n",
              "\n",
              "          const docLinkHtml = 'Like what you see? Visit the ' +\n",
              "            '<a target=\"_blank\" href=https://colab.research.google.com/notebooks/data_table.ipynb>data table notebook</a>'\n",
              "            + ' to learn more about interactive tables.';\n",
              "          element.innerHTML = '';\n",
              "          dataTable['output_type'] = 'display_data';\n",
              "          await google.colab.output.renderOutput(dataTable, element);\n",
              "          const docLink = document.createElement('div');\n",
              "          docLink.innerHTML = docLinkHtml;\n",
              "          element.appendChild(docLink);\n",
              "        }\n",
              "      </script>\n",
              "    </div>\n",
              "  </div>\n",
              "  "
            ]
          },
          "metadata": {}
        },
        {
          "output_type": "stream",
          "name": "stdout",
          "text": [
            "0s : 1s  ::   0.8 : 1\n"
          ]
        },
        {
          "output_type": "display_data",
          "data": {
            "text/plain": [
              "<Figure size 640x480 with 1 Axes>"
            ],
            "image/png": "[encoded data removed]"
          },
          "metadata": {}
        }
      ],
      "source": [
        "#Check class distribution in dependent variable\n",
        "display(data['label'].value_counts().to_frame())\n",
        "print(\"0s : 1s  ::  \",(data['label'].value_counts()[0]/data['label'].value_counts()[1]).round(2),\": 1\")\n",
        "plt.bar([0,1],data['label'].value_counts())\n",
        "plt.title(\"class proportions in the dataset\")\n",
        "plt.show()"
      ]
    },
    {
      "cell_type": "markdown",
      "metadata": {
        "id": "GtHBkwQ6n7LW"
      },
      "source": [
        "#### we see that we have an unbalanced data mojority class to minority class ratio of 13 : 1"
      ]
    },
    {
      "cell_type": "code",
      "execution_count": null,
      "metadata": {
        "colab": {
          "base_uri": "https://localhost:8080/",
          "height": 564
        },
        "id": "T6SfUipEn7LZ",
        "outputId": "9bb06398-ef23-4837-93ed-c45a5e6ec3fa"
      },
      "outputs": [
        {
          "output_type": "display_data",
          "data": {
            "text/plain": [
              "   label\n",
              "1  21927\n",
              "0   5860"
            ],
            "text/html": [
              "\n",
              "  <div id=\"df-5042276d-57f2-4668-bc06-89d7561314f9\">\n",
              "    <div class=\"colab-df-container\">\n",
              "      <div>\n",
              "<style scoped>\n",
              "    .dataframe tbody tr th:only-of-type {\n",
              "        vertical-align: middle;\n",
              "    }\n",
              "\n",
              "    .dataframe tbody tr th {\n",
              "        vertical-align: top;\n",
              "    }\n",
              "\n",
              "    .dataframe thead th {\n",
              "        text-align: right;\n",
              "    }\n",
              "</style>\n",
              "<table border=\"1\" class=\"dataframe\">\n",
              "  <thead>\n",
              "    <tr style=\"text-align: right;\">\n",
              "      <th></th>\n",
              "      <th>label</th>\n",
              "    </tr>\n",
              "  </thead>\n",
              "  <tbody>\n",
              "    <tr>\n",
              "      <th>1</th>\n",
              "      <td>21927</td>\n",
              "    </tr>\n",
              "    <tr>\n",
              "      <th>0</th>\n",
              "      <td>5860</td>\n",
              "    </tr>\n",
              "  </tbody>\n",
              "</table>\n",
              "</div>\n",
              "      <button class=\"colab-df-convert\" onclick=\"convertToInteractive('df-5042276d-57f2-4668-bc06-89d7561314f9')\"\n",
              "              title=\"Convert this dataframe to an interactive table.\"\n",
              "              style=\"display:none;\">\n",
              "        \n",
              "  <svg xmlns=\"http://www.w3.org/2000/svg\" height=\"24px\"viewBox=\"0 0 24 24\"\n",
              "       width=\"24px\">\n",
              "    <path d=\"M0 0h24v24H0V0z\" fill=\"none\"/>\n",
              "    <path d=\"M18.56 5.44l.94 2.06.94-2.06 2.06-.94-2.06-.94-.94-2.06-.94 2.06-2.06.94zm-11 1L8.5 8.5l.94-2.06 2.06-.94-2.06-.94L8.5 2.5l-.94 2.06-2.06.94zm10 10l.94 2.06.94-2.06 2.06-.94-2.06-.94-.94-2.06-.94 2.06-2.06.94z\"/><path d=\"M17.41 7.96l-1.37-1.37c-.4-.4-.92-.59-1.43-.59-.52 0-1.04.2-1.43.59L10.3 9.45l-7.72 7.72c-.78.78-.78 2.05 0 2.83L4 21.41c.39.39.9.59 1.41.59.51 0 1.02-.2 1.41-.59l7.78-7.78 2.81-2.81c.8-.78.8-2.07 0-2.86zM5.41 20L4 18.59l7.72-7.72 1.47 1.35L5.41 20z\"/>\n",
              "  </svg>\n",
              "      </button>\n",
              "      \n",
              "  <style>\n",
              "    .colab-df-container {\n",
              "      display:flex;\n",
              "      flex-wrap:wrap;\n",
              "      gap: 12px;\n",
              "    }\n",
              "\n",
              "    .colab-df-convert {\n",
              "      background-color: #E8F0FE;\n",
              "      border: none;\n",
              "      border-radius: 50%;\n",
              "      cursor: pointer;\n",
              "      display: none;\n",
              "      fill: #1967D2;\n",
              "      height: 32px;\n",
              "      padding: 0 0 0 0;\n",
              "      width: 32px;\n",
              "    }\n",
              "\n",
              "    .colab-df-convert:hover {\n",
              "      background-color: #E2EBFA;\n",
              "      box-shadow: 0px 1px 2px rgba(60, 64, 67, 0.3), 0px 1px 3px 1px rgba(60, 64, 67, 0.15);\n",
              "      fill: #174EA6;\n",
              "    }\n",
              "\n",
              "    [theme=dark] .colab-df-convert {\n",
              "      background-color: #3B4455;\n",
              "      fill: #D2E3FC;\n",
              "    }\n",
              "\n",
              "    [theme=dark] .colab-df-convert:hover {\n",
              "      background-color: #434B5C;\n",
              "      box-shadow: 0px 1px 3px 1px rgba(0, 0, 0, 0.15);\n",
              "      filter: drop-shadow(0px 1px 2px rgba(0, 0, 0, 0.3));\n",
              "      fill: #FFFFFF;\n",
              "    }\n",
              "  </style>\n",
              "\n",
              "      <script>\n",
              "        const buttonEl =\n",
              "          document.querySelector('#df-5042276d-57f2-4668-bc06-89d7561314f9 button.colab-df-convert');\n",
              "        buttonEl.style.display =\n",
              "          google.colab.kernel.accessAllowed ? 'block' : 'none';\n",
              "\n",
              "        async function convertToInteractive(key) {\n",
              "          const element = document.querySelector('#df-5042276d-57f2-4668-bc06-89d7561314f9');\n",
              "          const dataTable =\n",
              "            await google.colab.kernel.invokeFunction('convertToInteractive',\n",
              "                                                     [key], {});\n",
              "          if (!dataTable) return;\n",
              "\n",
              "          const docLinkHtml = 'Like what you see? Visit the ' +\n",
              "            '<a target=\"_blank\" href=https://colab.research.google.com/notebooks/data_table.ipynb>data table notebook</a>'\n",
              "            + ' to learn more about interactive tables.';\n",
              "          element.innerHTML = '';\n",
              "          dataTable['output_type'] = 'display_data';\n",
              "          await google.colab.output.renderOutput(dataTable, element);\n",
              "          const docLink = document.createElement('div');\n",
              "          docLink.innerHTML = docLinkHtml;\n",
              "          element.appendChild(docLink);\n",
              "        }\n",
              "      </script>\n",
              "    </div>\n",
              "  </div>\n",
              "  "
            ]
          },
          "metadata": {}
        },
        {
          "output_type": "stream",
          "name": "stdout",
          "text": [
            "0s : 1s  ::   0.27 : 1\n"
          ]
        },
        {
          "output_type": "display_data",
          "data": {
            "text/plain": [
              "<Figure size 640x480 with 1 Axes>"
            ],
            "image/png": "[encoded data removed]"
          },
          "metadata": {}
        }
      ],
      "source": [
        "#Balancing the dataset using Oversampling\n",
        "data1=data[data['label']==1]\n",
        "data0=data[data['label']==0]\n",
        "data=pd.concat([data,data1,data1], axis=0)\n",
        "data\n",
        "\n",
        "#Check class distribution in dependent variable again\n",
        "display(data['label'].value_counts().to_frame())\n",
        "print(\"0s : 1s  ::  \",(data['label'].value_counts()[0]/data['label'].value_counts()[1]).round(2),\": 1\")\n",
        "plt.bar([0,1],data['label'].value_counts())\n",
        "plt.title(\"class proportions in the dataset\")\n",
        "plt.show()"
      ]
    },
    {
      "cell_type": "code",
      "execution_count": null,
      "metadata": {
        "id": "JcyYQZxDn7Lc"
      },
      "outputs": [],
      "source": [
        "def remove_emoji(text):\n",
        "    emoji_pattern = re.compile(\"[\"\n",
        "                           u\"\\U0001F600-\\U0001F64F\"  # emoticons\n",
        "                           u\"\\U0001F300-\\U0001F5FF\"  # symbols & pictographs\n",
        "                           u\"\\U0001F680-\\U0001F6FF\"  # transport & map symbols\n",
        "                           u\"\\U0001F1E0-\\U0001F1FF\"  # flags (iOS)\n",
        "                           u\"\\U00002702-\\U000027B0\"\n",
        "                           u\"\\U000024C2-\\U0001F251\"\n",
        "                           \"]+\", flags=re.UNICODE)\n",
        "\n",
        "    return emoji_pattern.sub(r'', text)\n",
        "\n",
        "\n",
        "def clean_text(text ):\n",
        "    delete_dict = {sp_character: '' for sp_character in string.punctuation}\n",
        "    delete_dict[' '] = ' '\n",
        "    table = str.maketrans(delete_dict)\n",
        "    text1 = text.translate(table)\n",
        "    textArr= text1.split()\n",
        "    text2 = ' '.join([w for w in textArr if ( not w.isdigit() and  ( not w.isdigit() and len(w)>3))])\n",
        "\n",
        "    return text2.lower()"
      ]
    },
    {
      "cell_type": "code",
      "execution_count": null,
      "metadata": {
        "id": "W50OI-cdn7Lg"
      },
      "outputs": [],
      "source": [
        "#preprocess train dataset\n",
        "data['tweet'] = data['tweet'].apply(remove_emoji)\n",
        "data['tweet'] = data['tweet'].apply(clean_text)\n",
        "data['Num_words_text'] = data['tweet'].apply(lambda x:len(str(x).split()))\n",
        "\n",
        "train_data,test_data= train_test_split(data, test_size=0.2)\n",
        "train_data.reset_index(drop=True,inplace=True)\n",
        "test_data.reset_index(drop=True,inplace=True)"
      ]
    },
    {
      "cell_type": "code",
      "execution_count": null,
      "metadata": {
        "scrolled": true,
        "colab": {
          "base_uri": "https://localhost:8080/"
        },
        "id": "MycVPx7fn7Li",
        "outputId": "df251433-08e2-4dbf-f52d-024da7bb17f0"
      },
      "outputs": [
        {
          "output_type": "stream",
          "name": "stdout",
          "text": [
            "===========Train Data =========\n",
            "1    5832\n",
            "0    4703\n",
            "Name: label, dtype: int64\n",
            "10535\n",
            "==============================\n",
            "===========Test Data =========\n",
            "1    1477\n",
            "0    1157\n",
            "Name: label, dtype: int64\n",
            "2634\n",
            "==============================\n"
          ]
        }
      ],
      "source": [
        "#classes proportion in dependent variable in train and test dataset\n",
        "print('===========Train Data =========')\n",
        "print(train_data['label'].value_counts())\n",
        "print(len(train_data))\n",
        "print('==============================')\n",
        "\n",
        "print('===========Test Data =========')\n",
        "print(test_data['label'].value_counts())\n",
        "print(len(test_data))\n",
        "print('==============================')"
      ]
    },
    {
      "cell_type": "code",
      "execution_count": null,
      "metadata": {
        "colab": {
          "base_uri": "https://localhost:8080/"
        },
        "id": "HTvT_uUrn7Lk",
        "outputId": "5b71033f-09d9-4327-d900-5db5cbeeeff9"
      },
      "outputs": [
        {
          "output_type": "stream",
          "name": "stdout",
          "text": [
            "Train data len:8428\n",
            "Class distributionCounter({1: 4666, 0: 3762})\n",
            "Valid data len:2107\n",
            "Class distributionCounter({1: 1166, 0: 941})\n"
          ]
        }
      ],
      "source": [
        "#train and validation dataset splitting\n",
        "X_train, X_valid, y_train, y_valid = train_test_split(train_data['tweet'].tolist(),\\\n",
        "                                                      train_data['label'].tolist(),\\\n",
        "                                                      test_size=0.2,\\\n",
        "                                                      stratify = train_data['label'].tolist(),\\\n",
        "                                                      random_state=0)\n",
        "\n",
        "\n",
        "print('Train data len:'+str(len(X_train)))\n",
        "print('Class distribution'+str(Counter(y_train)))\n",
        "print('Valid data len:'+str(len(X_valid)))\n",
        "print('Class distribution'+ str(Counter(y_valid)))"
      ]
    },
    {
      "cell_type": "code",
      "execution_count": null,
      "metadata": {
        "id": "PAEXB3uUn7Lm"
      },
      "outputs": [],
      "source": [
        "num_words = 50000\n",
        "\n",
        "tokenizer = Tokenizer(num_words=num_words,oov_token=\"unk\")\n",
        "tokenizer.fit_on_texts(X_train)"
      ]
    },
    {
      "cell_type": "code",
      "execution_count": null,
      "metadata": {
        "colab": {
          "base_uri": "https://localhost:8080/"
        },
        "id": "UszAWJFqn7Ln",
        "outputId": "9160dca9-f5c6-4730-f9b4-33b56b7a21cf"
      },
      "outputs": [
        {
          "output_type": "stream",
          "name": "stdout",
          "text": [
            "Train data len:8428\n",
            "Class distributionCounter({1: 4666, 0: 3762})\n",
            "Validation data len:2107\n",
            "Class distributionCounter({1: 1166, 0: 941})\n",
            "Test data len:2634\n",
            "Class distributionCounter({1: 1477, 0: 1157})\n"
          ]
        }
      ],
      "source": [
        "#convert sentences to sequences of numbers\n",
        "x_train = np.array( tokenizer.texts_to_sequences(X_train) )\n",
        "x_valid = np.array( tokenizer.texts_to_sequences(X_valid) )\n",
        "x_test  = np.array( tokenizer.texts_to_sequences(test_data['tweet'].tolist()) )\n",
        "\n",
        "#padding\n",
        "maxlen=50\n",
        "x_train = pad_sequences(x_train, padding='post', maxlen=maxlen)\n",
        "x_valid = pad_sequences(x_valid, padding='post', maxlen=maxlen)\n",
        "x_test = pad_sequences(x_test, padding='post', maxlen=maxlen)\n",
        "\n",
        "\n",
        "train_labels = np.asarray(y_train)\n",
        "valid_labels = np.asarray(y_valid)\n",
        "test_labels = np.asarray(test_data['label'].tolist())\n",
        "\n",
        "\n",
        "print('Train data len:'+str(len(x_train)))\n",
        "print('Class distribution'+str(Counter(train_labels)))\n",
        "\n",
        "print('Validation data len:'+str(len(x_valid)))\n",
        "print('Class distribution'+str(Counter(valid_labels)))\n",
        "\n",
        "print('Test data len:'+str(len(x_test)))\n",
        "print('Class distribution'+str(Counter(test_labels)))\n",
        "\n",
        "#tensorflow dataset preparation\n",
        "train_ds = tf.data.Dataset.from_tensor_slices((x_train,train_labels))\n",
        "valid_ds = tf.data.Dataset.from_tensor_slices((x_valid,valid_labels))\n",
        "test_ds = tf.data.Dataset.from_tensor_slices((x_test,test_labels))"
      ]
    },
    {
      "cell_type": "code",
      "execution_count": null,
      "metadata": {
        "colab": {
          "base_uri": "https://localhost:8080/"
        },
        "id": "gjDSe0Yvn7Lo",
        "outputId": "f3ca5edd-2ce5-4a62-a4f2-c65152499e1f"
      },
      "outputs": [
        {
          "output_type": "stream",
          "name": "stdout",
          "text": [
            "======Train dataset ====\n",
            "tf.Tensor(\n",
            "[1944 1945 2183  806 3758  615   60 3759 2184 7874    0    0    0    0\n",
            "    0    0    0    0    0    0    0    0    0    0    0    0    0    0\n",
            "    0    0    0    0    0    0    0    0    0    0    0    0    0    0\n",
            "    0    0    0    0    0    0    0    0], shape=(50,), dtype=int32) tf.Tensor(0, shape=(), dtype=int64)\n",
            "======Validation dataset ====\n",
            "tf.Tensor(\n",
            "[ 1379 22099    46    44   419    16  1181   120     4     0     0     0\n",
            "     0     0     0     0     0     0     0     0     0     0     0     0\n",
            "     0     0     0     0     0     0     0     0     0     0     0     0\n",
            "     0     0     0     0     0     0     0     0     0     0     0     0\n",
            "     0     0], shape=(50,), dtype=int32) tf.Tensor(1, shape=(), dtype=int64)\n",
            "======Test dataset ====\n",
            "tf.Tensor(\n",
            "[   5    1   24   39  164 6031  721   60    3   39  164   24 2099    3\n",
            " 5005 2255    1    0    0    0    0    0    0    0    0    0    0    0\n",
            "    0    0    0    0    0    0    0    0    0    0    0    0    0    0\n",
            "    0    0    0    0    0    0    0    0], shape=(50,), dtype=int32) tf.Tensor(0, shape=(), dtype=int64)\n"
          ]
        }
      ],
      "source": [
        "count =0\n",
        "print('======Train dataset ====')\n",
        "for value,label in train_ds:\n",
        "    count += 1\n",
        "    print(value,label)\n",
        "    if count==1:\n",
        "        break\n",
        "count =0\n",
        "print('======Validation dataset ====')\n",
        "for value,label in valid_ds:\n",
        "    count += 1\n",
        "    print(value,label)\n",
        "    if count==1:\n",
        "        break\n",
        "count =0\n",
        "print('======Test dataset ====')\n",
        "for value,label in test_ds:\n",
        "    count += 1\n",
        "    print(value,label)\n",
        "    if count==1:\n",
        "        break"
      ]
    },
    {
      "cell_type": "code",
      "execution_count": null,
      "metadata": {
        "scrolled": true,
        "colab": {
          "base_uri": "https://localhost:8080/"
        },
        "id": "J9L_lBrhn7Lq",
        "outputId": "8372b8ce-e709-4dd6-f4b9-6e24cbfda6fe"
      },
      "outputs": [
        {
          "output_type": "stream",
          "name": "stdout",
          "text": [
            "Model: \"sequential\"\n",
            "_________________________________________________________________\n",
            " Layer (type)                Output Shape              Param #   \n",
            "=================================================================\n",
            " embedding (Embedding)       (None, 50, 16)            800016    \n",
            "                                                                 \n",
            " dropout (Dropout)           (None, 50, 16)            0         \n",
            "                                                                 \n",
            " lstm (LSTM)                 (None, 50, 16)            2112      \n",
            "                                                                 \n",
            " flatten (Flatten)           (None, 800)               0         \n",
            "                                                                 \n",
            " dense (Dense)               (None, 512)               410112    \n",
            "                                                                 \n",
            " dropout_1 (Dropout)         (None, 512)               0         \n",
            "                                                                 \n",
            " dense_1 (Dense)             (None, 8)                 4104      \n",
            "                                                                 \n",
            " dropout_2 (Dropout)         (None, 8)                 0         \n",
            "                                                                 \n",
            " dense_2 (Dense)             (None, 1)                 9         \n",
            "                                                                 \n",
            "=================================================================\n",
            "Total params: 1,216,353\n",
            "Trainable params: 1,216,353\n",
            "Non-trainable params: 0\n",
            "_________________________________________________________________\n"
          ]
        }
      ],
      "source": [
        "#model preparation\n",
        "max_features =50000\n",
        "embedding_dim =16\n",
        "sequence_length = maxlen\n",
        "\n",
        "model = tf.keras.Sequential()\n",
        "model.add(tf.keras.layers.Embedding(max_features +1, embedding_dim, input_length=sequence_length,\\\n",
        "                                    embeddings_regularizer = regularizers.l2(0.005)))\n",
        "model.add(tf.keras.layers.Dropout(0.4))\n",
        "\n",
        "model.add(tf.keras.layers.LSTM(embedding_dim,dropout=0.2, recurrent_dropout=0.2,return_sequences=True,\\\n",
        "                                                             kernel_regularizer=regularizers.l2(0.005),\\\n",
        "                                                             bias_regularizer=regularizers.l2(0.005)))\n",
        "\n",
        "model.add(tf.keras.layers.Flatten())\n",
        "\n",
        "model.add(tf.keras.layers.Dense(512, activation='relu',\\\n",
        "                                kernel_regularizer=regularizers.l2(0.001),\\\n",
        "                                bias_regularizer=regularizers.l2(0.001),))\n",
        "model.add(tf.keras.layers.Dropout(0.4))\n",
        "\n",
        "model.add(tf.keras.layers.Dense(8, activation='relu',\\\n",
        "                                kernel_regularizer=regularizers.l2(0.001),\\\n",
        "                                bias_regularizer=regularizers.l2(0.001),))\n",
        "model.add(tf.keras.layers.Dropout(0.4))\n",
        "\n",
        "\n",
        "model.add(tf.keras.layers.Dense(1,activation='sigmoid'))\n",
        "\n",
        "\n",
        "\n",
        "\n",
        "model.summary()\n",
        "model.compile(loss=tf.keras.losses.BinaryCrossentropy(),optimizer=tf.keras.optimizers.Adam(1e-3),metrics=[tf.keras.metrics.BinaryAccuracy()])"
      ]
    },
    {
      "cell_type": "code",
      "execution_count": null,
      "metadata": {
        "colab": {
          "base_uri": "https://localhost:8080/"
        },
        "id": "l5qKMQtdn7Lr",
        "outputId": "68a38349-13b8-4df7-c28a-893c8ecb3e22"
      },
      "outputs": [
        {
          "output_type": "stream",
          "name": "stdout",
          "text": [
            "Epoch 1/50\n",
            "9/9 [==============================] - 8s 485ms/step - loss: 4.1250 - binary_accuracy: 0.5516 - val_loss: 3.1618 - val_binary_accuracy: 0.5534\n",
            "Epoch 2/50\n",
            "9/9 [==============================] - 2s 264ms/step - loss: 2.6771 - binary_accuracy: 0.5826 - val_loss: 2.0692 - val_binary_accuracy: 0.6393\n",
            "Epoch 3/50\n",
            "9/9 [==============================] - 2s 266ms/step - loss: 1.7827 - binary_accuracy: 0.6228 - val_loss: 1.4329 - val_binary_accuracy: 0.6346\n",
            "Epoch 4/50\n",
            "9/9 [==============================] - 2s 256ms/step - loss: 1.2794 - binary_accuracy: 0.6279 - val_loss: 1.0943 - val_binary_accuracy: 0.6379\n",
            "Epoch 5/50\n",
            "9/9 [==============================] - 2s 265ms/step - loss: 1.0201 - binary_accuracy: 0.6423 - val_loss: 0.9268 - val_binary_accuracy: 0.6421\n",
            "Epoch 6/50\n",
            "9/9 [==============================] - 5s 608ms/step - loss: 0.8889 - binary_accuracy: 0.6561 - val_loss: 0.8388 - val_binary_accuracy: 0.6550\n",
            "Epoch 7/50\n",
            "9/9 [==============================] - 2s 270ms/step - loss: 0.8207 - binary_accuracy: 0.6698 - val_loss: 0.7858 - val_binary_accuracy: 0.6910\n",
            "Epoch 8/50\n",
            "9/9 [==============================] - 2s 270ms/step - loss: 0.7606 - binary_accuracy: 0.7170 - val_loss: 0.7137 - val_binary_accuracy: 0.7432\n",
            "Epoch 9/50\n",
            "9/9 [==============================] - 2s 272ms/step - loss: 0.6716 - binary_accuracy: 0.8053 - val_loss: 0.6119 - val_binary_accuracy: 0.8102\n",
            "Epoch 10/50\n",
            "9/9 [==============================] - 3s 311ms/step - loss: 0.5860 - binary_accuracy: 0.8509 - val_loss: 0.5989 - val_binary_accuracy: 0.8234\n",
            "Epoch 11/50\n",
            "9/9 [==============================] - 4s 468ms/step - loss: 0.5284 - binary_accuracy: 0.8831 - val_loss: 0.5976 - val_binary_accuracy: 0.8268\n",
            "Epoch 12/50\n",
            "9/9 [==============================] - 2s 264ms/step - loss: 0.4891 - binary_accuracy: 0.9112 - val_loss: 0.6264 - val_binary_accuracy: 0.8102\n",
            "Epoch 13/50\n",
            "9/9 [==============================] - 2s 263ms/step - loss: 0.4427 - binary_accuracy: 0.9271 - val_loss: 0.6396 - val_binary_accuracy: 0.8353\n",
            "Epoch 14/50\n",
            "9/9 [==============================] - 2s 270ms/step - loss: 0.4160 - binary_accuracy: 0.9416 - val_loss: 0.6342 - val_binary_accuracy: 0.8306\n",
            "Epoch 15/50\n",
            "9/9 [==============================] - 3s 337ms/step - loss: 0.3972 - binary_accuracy: 0.9461 - val_loss: 0.6742 - val_binary_accuracy: 0.8196\n",
            "Epoch 16/50\n",
            "9/9 [==============================] - 2s 267ms/step - loss: 0.3639 - binary_accuracy: 0.9568 - val_loss: 0.7107 - val_binary_accuracy: 0.8301\n",
            "Epoch 17/50\n",
            "9/9 [==============================] - 3s 273ms/step - loss: 0.3579 - binary_accuracy: 0.9568 - val_loss: 0.7038 - val_binary_accuracy: 0.8173\n",
            "Epoch 18/50\n",
            "9/9 [==============================] - 3s 281ms/step - loss: 0.3397 - binary_accuracy: 0.9613 - val_loss: 0.7593 - val_binary_accuracy: 0.8325\n",
            "Epoch 19/50\n",
            "9/9 [==============================] - 3s 283ms/step - loss: 0.3441 - binary_accuracy: 0.9595 - val_loss: 0.7213 - val_binary_accuracy: 0.8178\n",
            "Epoch 20/50\n",
            "9/9 [==============================] - 2s 274ms/step - loss: 0.3236 - binary_accuracy: 0.9658 - val_loss: 0.7879 - val_binary_accuracy: 0.8225\n",
            "Epoch 21/50\n",
            "9/9 [==============================] - 2s 273ms/step - loss: 0.3231 - binary_accuracy: 0.9659 - val_loss: 0.7880 - val_binary_accuracy: 0.8078\n",
            "Epoch 22/50\n",
            "9/9 [==============================] - 2s 272ms/step - loss: 0.3173 - binary_accuracy: 0.9662 - val_loss: 0.7471 - val_binary_accuracy: 0.8272\n",
            "Epoch 23/50\n",
            "9/9 [==============================] - 3s 306ms/step - loss: 0.3059 - binary_accuracy: 0.9695 - val_loss: 0.8192 - val_binary_accuracy: 0.8173\n",
            "Epoch 24/50\n",
            "9/9 [==============================] - 4s 472ms/step - loss: 0.2977 - binary_accuracy: 0.9721 - val_loss: 0.7661 - val_binary_accuracy: 0.8239\n",
            "Epoch 25/50\n",
            "9/9 [==============================] - 5s 544ms/step - loss: 0.2897 - binary_accuracy: 0.9744 - val_loss: 0.8064 - val_binary_accuracy: 0.8225\n",
            "Epoch 26/50\n",
            "9/9 [==============================] - 6s 615ms/step - loss: 0.2886 - binary_accuracy: 0.9752 - val_loss: 0.7629 - val_binary_accuracy: 0.8220\n",
            "Epoch 27/50\n",
            "9/9 [==============================] - 4s 477ms/step - loss: 0.2881 - binary_accuracy: 0.9732 - val_loss: 0.8239 - val_binary_accuracy: 0.8272\n",
            "Epoch 28/50\n",
            "9/9 [==============================] - 5s 552ms/step - loss: 0.2771 - binary_accuracy: 0.9746 - val_loss: 0.8085 - val_binary_accuracy: 0.8234\n",
            "Epoch 29/50\n",
            "9/9 [==============================] - 5s 594ms/step - loss: 0.2780 - binary_accuracy: 0.9758 - val_loss: 0.8387 - val_binary_accuracy: 0.8111\n",
            "Epoch 30/50\n",
            "9/9 [==============================] - 6s 619ms/step - loss: 0.2850 - binary_accuracy: 0.9715 - val_loss: 0.8679 - val_binary_accuracy: 0.8054\n",
            "Epoch 31/50\n",
            "9/9 [==============================] - 5s 575ms/step - loss: 0.2839 - binary_accuracy: 0.9733 - val_loss: 0.8746 - val_binary_accuracy: 0.8149\n",
            "Epoch 32/50\n",
            "9/9 [==============================] - 3s 289ms/step - loss: 0.2885 - binary_accuracy: 0.9708 - val_loss: 0.8148 - val_binary_accuracy: 0.8059\n",
            "Epoch 33/50\n",
            "9/9 [==============================] - 4s 483ms/step - loss: 0.2774 - binary_accuracy: 0.9750 - val_loss: 0.8977 - val_binary_accuracy: 0.8102\n",
            "Epoch 34/50\n",
            "9/9 [==============================] - 2s 265ms/step - loss: 0.2861 - binary_accuracy: 0.9733 - val_loss: 0.7795 - val_binary_accuracy: 0.8111\n",
            "Epoch 35/50\n",
            "9/9 [==============================] - 2s 267ms/step - loss: 0.2724 - binary_accuracy: 0.9746 - val_loss: 0.8538 - val_binary_accuracy: 0.8144\n",
            "Epoch 36/50\n",
            "9/9 [==============================] - 2s 275ms/step - loss: 0.2667 - binary_accuracy: 0.9771 - val_loss: 1.0653 - val_binary_accuracy: 0.8054\n",
            "Epoch 37/50\n",
            "9/9 [==============================] - 3s 349ms/step - loss: 0.2843 - binary_accuracy: 0.9708 - val_loss: 0.7289 - val_binary_accuracy: 0.8206\n",
            "Epoch 38/50\n",
            "9/9 [==============================] - 4s 422ms/step - loss: 0.2710 - binary_accuracy: 0.9754 - val_loss: 0.8698 - val_binary_accuracy: 0.8215\n",
            "Epoch 39/50\n",
            "9/9 [==============================] - 2s 266ms/step - loss: 0.2633 - binary_accuracy: 0.9778 - val_loss: 0.9030 - val_binary_accuracy: 0.8144\n",
            "Epoch 40/50\n",
            "9/9 [==============================] - 2s 266ms/step - loss: 0.2610 - binary_accuracy: 0.9798 - val_loss: 0.8144 - val_binary_accuracy: 0.8182\n",
            "Epoch 41/50\n",
            "9/9 [==============================] - 2s 266ms/step - loss: 0.2591 - binary_accuracy: 0.9780 - val_loss: 0.8430 - val_binary_accuracy: 0.8206\n",
            "Epoch 42/50\n",
            "9/9 [==============================] - 4s 450ms/step - loss: 0.2611 - binary_accuracy: 0.9770 - val_loss: 0.8696 - val_binary_accuracy: 0.8111\n",
            "Epoch 43/50\n",
            "9/9 [==============================] - 3s 315ms/step - loss: 0.2529 - binary_accuracy: 0.9797 - val_loss: 0.8963 - val_binary_accuracy: 0.8140\n",
            "Epoch 44/50\n",
            "9/9 [==============================] - 3s 362ms/step - loss: 0.2576 - binary_accuracy: 0.9773 - val_loss: 0.8660 - val_binary_accuracy: 0.8249\n",
            "Epoch 45/50\n",
            "9/9 [==============================] - 5s 565ms/step - loss: 0.2526 - binary_accuracy: 0.9803 - val_loss: 0.9018 - val_binary_accuracy: 0.8159\n",
            "Epoch 46/50\n",
            "9/9 [==============================] - 4s 462ms/step - loss: 0.2501 - binary_accuracy: 0.9794 - val_loss: 0.8695 - val_binary_accuracy: 0.8144\n",
            "Epoch 47/50\n",
            "9/9 [==============================] - 3s 332ms/step - loss: 0.2417 - binary_accuracy: 0.9801 - val_loss: 0.9632 - val_binary_accuracy: 0.8125\n",
            "Epoch 48/50\n",
            "9/9 [==============================] - 2s 264ms/step - loss: 0.2418 - binary_accuracy: 0.9818 - val_loss: 0.9027 - val_binary_accuracy: 0.8111\n",
            "Epoch 49/50\n",
            "9/9 [==============================] - 6s 690ms/step - loss: 0.2411 - binary_accuracy: 0.9792 - val_loss: 0.9245 - val_binary_accuracy: 0.8159\n",
            "Epoch 50/50\n",
            "9/9 [==============================] - 3s 271ms/step - loss: 0.2394 - binary_accuracy: 0.9817 - val_loss: 0.8440 - val_binary_accuracy: 0.8102\n"
          ]
        }
      ],
      "source": [
        "epochs = 50\n",
        "# Fit the model using the train and test datasets.\n",
        "history = model.fit(train_ds.shuffle(5000).batch(1024),\n",
        "                    epochs= epochs ,\n",
        "                    validation_data=valid_ds.batch(1024),\n",
        "                    verbose=1)"
      ]
    },
    {
      "cell_type": "code",
      "source": [
        "#Plot training and validation loss\n",
        "plt.plot(history.history['loss'])\n",
        "plt.plot(history.history['val_loss'])\n",
        "plt.title('Training and Validation Loss')\n",
        "plt.xlabel('Epochs')\n",
        "plt.ylabel('Loss')\n",
        "plt.legend(['Training', 'Validation'])\n",
        "plt.show()\n",
        "\n",
        "#Plot training and validation accuracy\n",
        "plt.plot(history.history['binary_accuracy'])\n",
        "plt.plot(history.history['val_binary_accuracy'])\n",
        "plt.title('Training and Validation Accuracy')\n",
        "plt.xlabel('Epochs')\n",
        "plt.ylabel('Accuracy')\n",
        "plt.legend(['Training', 'Validation'])\n",
        "plt.show()"
      ],
      "metadata": {
        "colab": {
          "base_uri": "https://localhost:8080/",
          "height": 927
        },
        "id": "5CBFDXV2LqtY",
        "outputId": "673768ea-e595-4077-c669-69300bb1da15"
      },
      "execution_count": null,
      "outputs": [
        {
          "output_type": "display_data",
          "data": {
            "text/plain": [
              "<Figure size 640x480 with 1 Axes>"
            ],
            "image/png": "[encoded data removed]"
          },
          "metadata": {}
        },
        {
          "output_type": "display_data",
          "data": {
            "text/plain": [
              "<Figure size 640x480 with 1 Axes>"
            ],
            "image/png": "[encoded data removed]"
          },
          "metadata": {}
        }
      ]
    },
    {
      "cell_type": "code",
      "execution_count": null,
      "metadata": {
        "colab": {
          "base_uri": "https://localhost:8080/"
        },
        "id": "UY94pwTIn7Lt",
        "outputId": "2dcadaa8-9585-4f1f-ef4c-2be47a19edf5"
      },
      "outputs": [
        {
          "output_type": "stream",
          "name": "stdout",
          "text": [
            "139/139 [==============================] - 1s 8ms/step\n",
            "[[3.78246506e-04]\n",
            " [9.99991417e-01]\n",
            " [1.19785305e-04]\n",
            " [9.99988258e-01]\n",
            " [9.99995828e-01]\n",
            " [9.99996543e-01]\n",
            " [9.99965012e-01]\n",
            " [1.00000000e+00]\n",
            " [9.99999940e-01]\n",
            " [4.54815388e-01]]\n"
          ]
        }
      ],
      "source": [
        "#make predictions on validation dataset\n",
        "valid_predict= model.predict(x_valid)\n",
        "print(valid_predict[:10])"
      ]
    },
    {
      "cell_type": "code",
      "execution_count": null,
      "metadata": {
        "colab": {
          "base_uri": "https://localhost:8080/"
        },
        "id": "QBoNvbgmn7Lu",
        "outputId": "240ddd53-c781-4bb4-f4ae-22fd281636ac"
      },
      "outputs": [
        {
          "output_type": "stream",
          "name": "stdout",
          "text": [
            "174/174 [==============================] - 1s 6ms/step\n"
          ]
        }
      ],
      "source": [
        "#model's metrics on test dataset\n",
        "x_test  = np.array( tokenizer.texts_to_sequences(test_data['tweet'].tolist()) )\n",
        "x_test = pad_sequences(x_test, padding='post', maxlen=maxlen)\n",
        "\n",
        "\n",
        "#Generate predictions for all samples\n",
        "predictions = model.predict(x_test)"
      ]
    },
    {
      "cell_type": "code",
      "execution_count": null,
      "metadata": {
        "colab": {
          "base_uri": "https://localhost:8080/",
          "height": 445
        },
        "id": "bGk18Rsun7Lv",
        "outputId": "2d581d04-a9c2-4be7-cac9-869e98db9c89"
      },
      "outputs": [
        {
          "output_type": "display_data",
          "data": {
            "text/plain": [
              "<Figure size 1500x500 with 2 Axes>"
            ],
            "image/png": "[encoded data removed]"
          },
          "metadata": {}
        }
      ],
      "source": [
        "#plot predictions\n",
        "f, (ax1, ax2) = plt.subplots(1, 2,figsize=(15,5))\n",
        "ax1.scatter(predictions,range(0,len(predictions)),alpha=0.2)\n",
        "ax2=sns.distplot(predictions)"
      ]
    },
    {
      "cell_type": "markdown",
      "metadata": {
        "id": "Hs0K6fF0n7Lw"
      },
      "source": [
        "#### A receiver operating characteristic curve, or ROC curve, is a graphical plot that illustrates the diagnostic ability of a binary classifier system as its discrimination threshold is varied"
      ]
    },
    {
      "cell_type": "code",
      "execution_count": null,
      "metadata": {
        "scrolled": true,
        "colab": {
          "base_uri": "https://localhost:8080/",
          "height": 636
        },
        "id": "NvoRiZifn7Lx",
        "outputId": "54a50215-1034-4bb0-c62b-b744a84879db"
      },
      "outputs": [
        {
          "output_type": "execute_result",
          "data": {
            "text/plain": [
              "<matplotlib.legend.Legend at 0x7f474d36bc70>"
            ]
          },
          "metadata": {},
          "execution_count": 29
        },
        {
          "output_type": "display_data",
          "data": {
            "text/plain": [
              "<Figure size 700x700 with 1 Axes>"
            ],
            "image/png": "[encoded data removed]"
          },
          "metadata": {}
        }
      ],
      "source": [
        "#decide the cutoff for classifying the predicted probabilities as 1 or 0\n",
        "def plot_roc(name, labels, predictions, **kwargs):\n",
        "    fp, tp, thresholds = sklearn.metrics.roc_curve(labels, predictions)\n",
        "    plt.plot(fp, tp, label=name, linewidth=2, **kwargs)\n",
        "    plt.xlabel('False positives Rate')\n",
        "    plt.ylabel('True positives Rate')\n",
        "    plt.xlim([-0.03, 1.0])\n",
        "    plt.ylim([0.0, 1.03])\n",
        "    plt.grid(True)\n",
        "    thresholdsLength = len(thresholds)\n",
        "    thresholds_every = 1000\n",
        "    colorMap = plt.get_cmap('jet', thresholdsLength)\n",
        "    for i in range(0, thresholdsLength, thresholds_every):\n",
        "        threshold_value_with_max_four_decimals = str(thresholds[i])[:5]\n",
        "        plt.text(fp[i] - 0.03, tp[i] + 0.001, threshold_value_with_max_four_decimals, fontdict={'size': 15}, color=colorMap(i/thresholdsLength));\n",
        "\n",
        "    ax = plt.gca()\n",
        "    ax.set_aspect('equal')\n",
        "\n",
        "mpl.rcParams['figure.figsize'] = (7,7)\n",
        "\n",
        "colors = plt.rcParams['axes.prop_cycle'].by_key()['color']\n",
        "plot_roc(\"Valid Baseline\", valid_labels, valid_predict, color=colors[0], linestyle='--')\n",
        "plt.legend(loc='lower right')"
      ]
    },
    {
      "cell_type": "code",
      "execution_count": null,
      "metadata": {
        "colab": {
          "base_uri": "https://localhost:8080/"
        },
        "id": "yIoAQczHn7Ly",
        "outputId": "254fc211-9f34-473f-dba6-de57c61178e1"
      },
      "outputs": [
        {
          "output_type": "stream",
          "name": "stdout",
          "text": [
            "              precision    recall  f1-score   support\n",
            "\n",
            "           0       0.85      0.83      0.84      1157\n",
            "           1       0.96      0.96      0.96      4401\n",
            "\n",
            "    accuracy                           0.93      5558\n",
            "   macro avg       0.90      0.90      0.90      5558\n",
            "weighted avg       0.93      0.93      0.93      5558\n",
            "\n"
          ]
        }
      ],
      "source": [
        "cutoff=0.86\n",
        "test_data['pred_sentiment']= predictions\n",
        "test_data['pred_sentiment'] = np.where((test_data.pred_sentiment >= cutoff),1,test_data.pred_sentiment)\n",
        "test_data['pred_sentiment'] = np.where((test_data.pred_sentiment < cutoff),0,test_data.pred_sentiment)\n",
        "\n",
        "labels = [0, 1]\n",
        "print(classification_report(test_data['label'].tolist(),test_data['pred_sentiment'].tolist(),labels=labels))"
      ]
    },
    {
      "cell_type": "code",
      "source": [
        "x_valid"
      ],
      "metadata": {
        "colab": {
          "base_uri": "https://localhost:8080/"
        },
        "id": "B58eDJXvNjWj",
        "outputId": "821667cb-07af-4834-b33c-3f702bf0b559"
      },
      "execution_count": null,
      "outputs": [
        {
          "output_type": "execute_result",
          "data": {
            "text/plain": [
              "array([[   71, 19672,   904, ...,     0,     0,     0],\n",
              "       [ 1207,   108,    44, ...,     0,     0,     0],\n",
              "       [22066,    14,     1, ...,     0,     0,     0],\n",
              "       ...,\n",
              "       [25248, 25249,  2411, ...,     0,     0,     0],\n",
              "       [    2,     2,   168, ...,     0,     0,     0],\n",
              "       [    2,     2,   168, ...,     0,     0,     0]], dtype=int32)"
            ]
          },
          "metadata": {},
          "execution_count": 33
        }
      ]
    },
    {
      "cell_type": "markdown",
      "metadata": {
        "id": "t6rowW3bn7Lz"
      },
      "source": [
        "## TESTING MODEL ON THE TEST DATASET PROVIDED"
      ]
    },
    {
      "cell_type": "code",
      "execution_count": null,
      "metadata": {
        "colab": {
          "base_uri": "https://localhost:8080/",
          "height": 659
        },
        "id": "7sJ5gngVn7L0",
        "outputId": "83738c76-3172-4b40-cc25-8a5357728468"
      },
      "outputs": [
        {
          "output_type": "display_data",
          "data": {
            "text/plain": [
              "array([[  463,   527,    21, ...,     0,     0,     0],\n",
              "       [ 9751,   227,  3693, ...,     0,     0,     0],\n",
              "       [17214, 17215, 11689, ...,     0,     0,     0],\n",
              "       ...,\n",
              "       [    2,     2,    13, ...,     0,     0,     0],\n",
              "       [20614,  6615,  7148, ...,     0,     0,     0],\n",
              "       [ 4112,    18,    48, ...,     0,     0,     0]], dtype=int32)"
            ]
          },
          "metadata": {}
        },
        {
          "output_type": "display_data",
          "data": {
            "text/plain": [
              "array([[1107,   70,  181,   71,   70,   23,  779,  150,    0,    0,    0,\n",
              "           0,    0,    0,    0,    0,    0,    0,    0,    0,    0,    0,\n",
              "           0,    0,    0,    0,    0,    0,    0,    0,    0,    0,    0,\n",
              "           0,    0,    0,    0,    0,    0,    0,    0,    0,    0,    0,\n",
              "           0,    0,    0,    0,    0,    0],\n",
              "       [ 125,   51,    6,    0,    0,    0,    0,    0,    0,    0,    0,\n",
              "           0,    0,    0,    0,    0,    0,    0,    0,    0,    0,    0,\n",
              "           0,    0,    0,    0,    0,    0,    0,    0,    0,    0,    0,\n",
              "           0,    0,    0,    0,    0,    0,    0,    0,    0,    0,    0,\n",
              "           0,    0,    0,    0,    0,    0],\n",
              "       [ 983,    0,    0,    0,    0,    0,    0,    0,    0,    0,    0,\n",
              "           0,    0,    0,    0,    0,    0,    0,    0,    0,    0,    0,\n",
              "           0,    0,    0,    0,    0,    0,    0,    0,    0,    0,    0,\n",
              "           0,    0,    0,    0,    0,    0,    0,    0,    0,    0,    0,\n",
              "           0,    0,    0,    0,    0,    0],\n",
              "       [1107,  945,  339,  379,    6,  534,    0,    0,    0,    0,    0,\n",
              "           0,    0,    0,    0,    0,    0,    0,    0,    0,    0,    0,\n",
              "           0,    0,    0,    0,    0,    0,    0,    0,    0,    0,    0,\n",
              "           0,    0,    0,    0,    0,    0,    0,    0,    0,    0,    0,\n",
              "           0,    0,    0,    0,    0,    0],\n",
              "       [  85,   13,    0,    0,    0,    0,    0,    0,    0,    0,    0,\n",
              "           0,    0,    0,    0,    0,    0,    0,    0,    0,    0,    0,\n",
              "           0,    0,    0,    0,    0,    0,    0,    0,    0,    0,    0,\n",
              "           0,    0,    0,    0,    0,    0,    0,    0,    0,    0,    0,\n",
              "           0,    0,    0,    0,    0,    0],\n",
              "       [  60,  114,    0,    0,    0,    0,    0,    0,    0,    0,    0,\n",
              "           0,    0,    0,    0,    0,    0,    0,    0,    0,    0,    0,\n",
              "           0,    0,    0,    0,    0,    0,    0,    0,    0,    0,    0,\n",
              "           0,    0,    0,    0,    0,    0,    0,    0,    0,    0,    0,\n",
              "           0,    0,    0,    0,    0,    0]], dtype=int32)"
            ]
          },
          "metadata": {}
        }
      ],
      "source": [
        "final_test=pd.read_csv(\"test.csv\")\n",
        "\n",
        "ftest=final_test.copy()\n",
        "ftest.drop(columns=['id'],axis=1,inplace=True)\n",
        "\n",
        "ftest['tweet'] = ftest['tweet'].apply(remove_emoji)\n",
        "ftest['tweet'] = ftest['tweet'].apply(clean_text)\n",
        "\n",
        "f_test  = np.array( tokenizer.texts_to_sequences(ftest['tweet'].tolist()) )\n",
        "f_test = pad_sequences(f_test, padding='post', maxlen=maxlen)\n",
        "\n",
        "#display((x_test))\n",
        "display((f_test))"
      ]
    },
    {
      "cell_type": "code",
      "execution_count": null,
      "metadata": {
        "colab": {
          "base_uri": "https://localhost:8080/"
        },
        "id": "q1TRXHGWn7L2",
        "outputId": "f8d4cec5-7476-4711-8f98-1d028b2893f0"
      },
      "outputs": [
        {
          "output_type": "stream",
          "name": "stdout",
          "text": [
            "1/1 [==============================] - 0s 31ms/step\n"
          ]
        }
      ],
      "source": [
        "#predict on actual test data\n",
        "predictions = model.predict(f_test)"
      ]
    },
    {
      "cell_type": "code",
      "source": [
        "predictions"
      ],
      "metadata": {
        "colab": {
          "base_uri": "https://localhost:8080/"
        },
        "id": "8CCAkDtERjcV",
        "outputId": "7e293eb4-e86e-4479-8684-b0a459a50b9d"
      },
      "execution_count": null,
      "outputs": [
        {
          "output_type": "execute_result",
          "data": {
            "text/plain": [
              "array([[0.9521406 ],\n",
              "       [0.99960023],\n",
              "       [0.01221049],\n",
              "       [0.02589851],\n",
              "       [0.17638034],\n",
              "       [0.55851144]], dtype=float32)"
            ]
          },
          "metadata": {},
          "execution_count": 74
        }
      ]
    },
    {
      "cell_type": "code",
      "execution_count": null,
      "metadata": {
        "colab": {
          "base_uri": "https://localhost:8080/",
          "height": 112
        },
        "id": "uEDqyuljn7L5",
        "outputId": "0b170a11-e164-447e-dee5-33e62da49f03"
      },
      "outputs": [
        {
          "output_type": "execute_result",
          "data": {
            "text/plain": [
              "                                              tweet  pred_sentiment\n",
              "0  seharusnya kamu mati saja kamu tidak layak hidup             1.0\n",
              "1                               anjing banget orang             1.0"
            ],
            "text/html": [
              "\n",
              "  <div id=\"df-4176b4c4-6e38-4593-869c-58c313daf63f\">\n",
              "    <div class=\"colab-df-container\">\n",
              "      <div>\n",
              "<style scoped>\n",
              "    .dataframe tbody tr th:only-of-type {\n",
              "        vertical-align: middle;\n",
              "    }\n",
              "\n",
              "    .dataframe tbody tr th {\n",
              "        vertical-align: top;\n",
              "    }\n",
              "\n",
              "    .dataframe thead th {\n",
              "        text-align: right;\n",
              "    }\n",
              "</style>\n",
              "<table border=\"1\" class=\"dataframe\">\n",
              "  <thead>\n",
              "    <tr style=\"text-align: right;\">\n",
              "      <th></th>\n",
              "      <th>tweet</th>\n",
              "      <th>pred_sentiment</th>\n",
              "    </tr>\n",
              "  </thead>\n",
              "  <tbody>\n",
              "    <tr>\n",
              "      <th>0</th>\n",
              "      <td>seharusnya kamu mati saja kamu tidak layak hidup</td>\n",
              "      <td>1.0</td>\n",
              "    </tr>\n",
              "    <tr>\n",
              "      <th>1</th>\n",
              "      <td>anjing banget orang</td>\n",
              "      <td>1.0</td>\n",
              "    </tr>\n",
              "  </tbody>\n",
              "</table>\n",
              "</div>\n",
              "      <button class=\"colab-df-convert\" onclick=\"convertToInteractive('df-4176b4c4-6e38-4593-869c-58c313daf63f')\"\n",
              "              title=\"Convert this dataframe to an interactive table.\"\n",
              "              style=\"display:none;\">\n",
              "        \n",
              "  <svg xmlns=\"http://www.w3.org/2000/svg\" height=\"24px\"viewBox=\"0 0 24 24\"\n",
              "       width=\"24px\">\n",
              "    <path d=\"M0 0h24v24H0V0z\" fill=\"none\"/>\n",
              "    <path d=\"M18.56 5.44l.94 2.06.94-2.06 2.06-.94-2.06-.94-.94-2.06-.94 2.06-2.06.94zm-11 1L8.5 8.5l.94-2.06 2.06-.94-2.06-.94L8.5 2.5l-.94 2.06-2.06.94zm10 10l.94 2.06.94-2.06 2.06-.94-2.06-.94-.94-2.06-.94 2.06-2.06.94z\"/><path d=\"M17.41 7.96l-1.37-1.37c-.4-.4-.92-.59-1.43-.59-.52 0-1.04.2-1.43.59L10.3 9.45l-7.72 7.72c-.78.78-.78 2.05 0 2.83L4 21.41c.39.39.9.59 1.41.59.51 0 1.02-.2 1.41-.59l7.78-7.78 2.81-2.81c.8-.78.8-2.07 0-2.86zM5.41 20L4 18.59l7.72-7.72 1.47 1.35L5.41 20z\"/>\n",
              "  </svg>\n",
              "      </button>\n",
              "      \n",
              "  <style>\n",
              "    .colab-df-container {\n",
              "      display:flex;\n",
              "      flex-wrap:wrap;\n",
              "      gap: 12px;\n",
              "    }\n",
              "\n",
              "    .colab-df-convert {\n",
              "      background-color: #E8F0FE;\n",
              "      border: none;\n",
              "      border-radius: 50%;\n",
              "      cursor: pointer;\n",
              "      display: none;\n",
              "      fill: #1967D2;\n",
              "      height: 32px;\n",
              "      padding: 0 0 0 0;\n",
              "      width: 32px;\n",
              "    }\n",
              "\n",
              "    .colab-df-convert:hover {\n",
              "      background-color: #E2EBFA;\n",
              "      box-shadow: 0px 1px 2px rgba(60, 64, 67, 0.3), 0px 1px 3px 1px rgba(60, 64, 67, 0.15);\n",
              "      fill: #174EA6;\n",
              "    }\n",
              "\n",
              "    [theme=dark] .colab-df-convert {\n",
              "      background-color: #3B4455;\n",
              "      fill: #D2E3FC;\n",
              "    }\n",
              "\n",
              "    [theme=dark] .colab-df-convert:hover {\n",
              "      background-color: #434B5C;\n",
              "      box-shadow: 0px 1px 3px 1px rgba(0, 0, 0, 0.15);\n",
              "      filter: drop-shadow(0px 1px 2px rgba(0, 0, 0, 0.3));\n",
              "      fill: #FFFFFF;\n",
              "    }\n",
              "  </style>\n",
              "\n",
              "      <script>\n",
              "        const buttonEl =\n",
              "          document.querySelector('#df-4176b4c4-6e38-4593-869c-58c313daf63f button.colab-df-convert');\n",
              "        buttonEl.style.display =\n",
              "          google.colab.kernel.accessAllowed ? 'block' : 'none';\n",
              "\n",
              "        async function convertToInteractive(key) {\n",
              "          const element = document.querySelector('#df-4176b4c4-6e38-4593-869c-58c313daf63f');\n",
              "          const dataTable =\n",
              "            await google.colab.kernel.invokeFunction('convertToInteractive',\n",
              "                                                     [key], {});\n",
              "          if (!dataTable) return;\n",
              "\n",
              "          const docLinkHtml = 'Like what you see? Visit the ' +\n",
              "            '<a target=\"_blank\" href=https://colab.research.google.com/notebooks/data_table.ipynb>data table notebook</a>'\n",
              "            + ' to learn more about interactive tables.';\n",
              "          element.innerHTML = '';\n",
              "          dataTable['output_type'] = 'display_data';\n",
              "          await google.colab.output.renderOutput(dataTable, element);\n",
              "          const docLink = document.createElement('div');\n",
              "          docLink.innerHTML = docLinkHtml;\n",
              "          element.appendChild(docLink);\n",
              "        }\n",
              "      </script>\n",
              "    </div>\n",
              "  </div>\n",
              "  "
            ]
          },
          "metadata": {},
          "execution_count": 75
        }
      ],
      "source": [
        "#mapping prediction to 1 or 0\n",
        "ftest['pred_sentiment']= predictions\n",
        "ftest['pred_sentiment'] = np.where((ftest.pred_sentiment >= cutoff),1,ftest.pred_sentiment)\n",
        "ftest['pred_sentiment'] = np.where((ftest.pred_sentiment < cutoff),0,ftest.pred_sentiment)\n",
        "\n",
        "#processed tweets categorized as hate speech\n",
        "pd.set_option('display.max_colwidth', None)\n",
        "ftest[ftest['pred_sentiment']==1]"
      ]
    },
    {
      "cell_type": "code",
      "execution_count": null,
      "metadata": {
        "scrolled": true,
        "colab": {
          "base_uri": "https://localhost:8080/",
          "height": 112
        },
        "id": "xwm_Nf5Cn7L7",
        "outputId": "902bc322-5c7c-45e1-c620-d77d584ded40"
      },
      "outputs": [
        {
          "output_type": "execute_result",
          "data": {
            "text/plain": [
              "    id                                              tweet\n",
              "0   21  Seharusnya kamu mati saja! kamu tidak layak hidup\n",
              "1  233                             anjing banget ni orang"
            ],
            "text/html": [
              "\n",
              "  <div id=\"df-3682a30e-a50b-4fcf-b06e-9766cb3d953d\">\n",
              "    <div class=\"colab-df-container\">\n",
              "      <div>\n",
              "<style scoped>\n",
              "    .dataframe tbody tr th:only-of-type {\n",
              "        vertical-align: middle;\n",
              "    }\n",
              "\n",
              "    .dataframe tbody tr th {\n",
              "        vertical-align: top;\n",
              "    }\n",
              "\n",
              "    .dataframe thead th {\n",
              "        text-align: right;\n",
              "    }\n",
              "</style>\n",
              "<table border=\"1\" class=\"dataframe\">\n",
              "  <thead>\n",
              "    <tr style=\"text-align: right;\">\n",
              "      <th></th>\n",
              "      <th>id</th>\n",
              "      <th>tweet</th>\n",
              "    </tr>\n",
              "  </thead>\n",
              "  <tbody>\n",
              "    <tr>\n",
              "      <th>0</th>\n",
              "      <td>21</td>\n",
              "      <td>Seharusnya kamu mati saja! kamu tidak layak hidup</td>\n",
              "    </tr>\n",
              "    <tr>\n",
              "      <th>1</th>\n",
              "      <td>233</td>\n",
              "      <td>anjing banget ni orang</td>\n",
              "    </tr>\n",
              "  </tbody>\n",
              "</table>\n",
              "</div>\n",
              "      <button class=\"colab-df-convert\" onclick=\"convertToInteractive('df-3682a30e-a50b-4fcf-b06e-9766cb3d953d')\"\n",
              "              title=\"Convert this dataframe to an interactive table.\"\n",
              "              style=\"display:none;\">\n",
              "        \n",
              "  <svg xmlns=\"http://www.w3.org/2000/svg\" height=\"24px\"viewBox=\"0 0 24 24\"\n",
              "       width=\"24px\">\n",
              "    <path d=\"M0 0h24v24H0V0z\" fill=\"none\"/>\n",
              "    <path d=\"M18.56 5.44l.94 2.06.94-2.06 2.06-.94-2.06-.94-.94-2.06-.94 2.06-2.06.94zm-11 1L8.5 8.5l.94-2.06 2.06-.94-2.06-.94L8.5 2.5l-.94 2.06-2.06.94zm10 10l.94 2.06.94-2.06 2.06-.94-2.06-.94-.94-2.06-.94 2.06-2.06.94z\"/><path d=\"M17.41 7.96l-1.37-1.37c-.4-.4-.92-.59-1.43-.59-.52 0-1.04.2-1.43.59L10.3 9.45l-7.72 7.72c-.78.78-.78 2.05 0 2.83L4 21.41c.39.39.9.59 1.41.59.51 0 1.02-.2 1.41-.59l7.78-7.78 2.81-2.81c.8-.78.8-2.07 0-2.86zM5.41 20L4 18.59l7.72-7.72 1.47 1.35L5.41 20z\"/>\n",
              "  </svg>\n",
              "      </button>\n",
              "      \n",
              "  <style>\n",
              "    .colab-df-container {\n",
              "      display:flex;\n",
              "      flex-wrap:wrap;\n",
              "      gap: 12px;\n",
              "    }\n",
              "\n",
              "    .colab-df-convert {\n",
              "      background-color: #E8F0FE;\n",
              "      border: none;\n",
              "      border-radius: 50%;\n",
              "      cursor: pointer;\n",
              "      display: none;\n",
              "      fill: #1967D2;\n",
              "      height: 32px;\n",
              "      padding: 0 0 0 0;\n",
              "      width: 32px;\n",
              "    }\n",
              "\n",
              "    .colab-df-convert:hover {\n",
              "      background-color: #E2EBFA;\n",
              "      box-shadow: 0px 1px 2px rgba(60, 64, 67, 0.3), 0px 1px 3px 1px rgba(60, 64, 67, 0.15);\n",
              "      fill: #174EA6;\n",
              "    }\n",
              "\n",
              "    [theme=dark] .colab-df-convert {\n",
              "      background-color: #3B4455;\n",
              "      fill: #D2E3FC;\n",
              "    }\n",
              "\n",
              "    [theme=dark] .colab-df-convert:hover {\n",
              "      background-color: #434B5C;\n",
              "      box-shadow: 0px 1px 3px 1px rgba(0, 0, 0, 0.15);\n",
              "      filter: drop-shadow(0px 1px 2px rgba(0, 0, 0, 0.3));\n",
              "      fill: #FFFFFF;\n",
              "    }\n",
              "  </style>\n",
              "\n",
              "      <script>\n",
              "        const buttonEl =\n",
              "          document.querySelector('#df-3682a30e-a50b-4fcf-b06e-9766cb3d953d button.colab-df-convert');\n",
              "        buttonEl.style.display =\n",
              "          google.colab.kernel.accessAllowed ? 'block' : 'none';\n",
              "\n",
              "        async function convertToInteractive(key) {\n",
              "          const element = document.querySelector('#df-3682a30e-a50b-4fcf-b06e-9766cb3d953d');\n",
              "          const dataTable =\n",
              "            await google.colab.kernel.invokeFunction('convertToInteractive',\n",
              "                                                     [key], {});\n",
              "          if (!dataTable) return;\n",
              "\n",
              "          const docLinkHtml = 'Like what you see? Visit the ' +\n",
              "            '<a target=\"_blank\" href=https://colab.research.google.com/notebooks/data_table.ipynb>data table notebook</a>'\n",
              "            + ' to learn more about interactive tables.';\n",
              "          element.innerHTML = '';\n",
              "          dataTable['output_type'] = 'display_data';\n",
              "          await google.colab.output.renderOutput(dataTable, element);\n",
              "          const docLink = document.createElement('div');\n",
              "          docLink.innerHTML = docLinkHtml;\n",
              "          element.appendChild(docLink);\n",
              "        }\n",
              "      </script>\n",
              "    </div>\n",
              "  </div>\n",
              "  "
            ]
          },
          "metadata": {},
          "execution_count": 76
        }
      ],
      "source": [
        "#actual tweets categorized as hate speech\n",
        "final_test.iloc[ftest[ftest['pred_sentiment']==1].index]"
      ]
    },
    {
      "cell_type": "markdown",
      "source": [
        "#Save model to H5"
      ],
      "metadata": {
        "id": "V7eOC5JzL9B2"
      }
    },
    {
      "cell_type": "code",
      "execution_count": null,
      "metadata": {
        "id": "mez3sWEAn7L8"
      },
      "outputs": [],
      "source": [
        "model.save('hate_speech_model.h5')"
      ]
    },
    {
      "cell_type": "code",
      "source": [
        "from google.colab import files\n",
        "files.download('hate_speech_model.h5')"
      ],
      "metadata": {
        "id": "n_64xhnsMaWv",
        "outputId": "ea6cdad1-daa9-420a-8c69-a6081e8698eb",
        "colab": {
          "base_uri": "https://localhost:8080/",
          "height": 34
        }
      },
      "execution_count": null,
      "outputs": [
        {
          "output_type": "display_data",
          "data": {
            "text/plain": [
              "<IPython.core.display.Javascript object>"
            ],
            "application/javascript": [
              "\n",
              "    async function download(id, filename, size) {\n",
              "      if (!google.colab.kernel.accessAllowed) {\n",
              "        return;\n",
              "      }\n",
              "      const div = document.createElement('div');\n",
              "      const label = document.createElement('label');\n",
              "      label.textContent = `Downloading \"${filename}\": `;\n",
              "      div.appendChild(label);\n",
              "      const progress = document.createElement('progress');\n",
              "      progress.max = size;\n",
              "      div.appendChild(progress);\n",
              "      document.body.appendChild(div);\n",
              "\n",
              "      const buffers = [];\n",
              "      let downloaded = 0;\n",
              "\n",
              "      const channel = await google.colab.kernel.comms.open(id);\n",
              "      // Send a message to notify the kernel that we're ready.\n",
              "      channel.send({})\n",
              "\n",
              "      for await (const message of channel.messages) {\n",
              "        // Send a message to notify the kernel that we're ready.\n",
              "        channel.send({})\n",
              "        if (message.buffers) {\n",
              "          for (const buffer of message.buffers) {\n",
              "            buffers.push(buffer);\n",
              "            downloaded += buffer.byteLength;\n",
              "            progress.value = downloaded;\n",
              "          }\n",
              "        }\n",
              "      }\n",
              "      const blob = new Blob(buffers, {type: 'application/binary'});\n",
              "      const a = document.createElement('a');\n",
              "      a.href = window.URL.createObjectURL(blob);\n",
              "      a.download = filename;\n",
              "      div.appendChild(a);\n",
              "      a.click();\n",
              "      div.remove();\n",
              "    }\n",
              "  "
            ]
          },
          "metadata": {}
        },
        {
          "output_type": "display_data",
          "data": {
            "text/plain": [
              "<IPython.core.display.Javascript object>"
            ],
            "application/javascript": [
              "download(\"download_7058b032-6eb6-4a8e-ad87-e8ecd3fcf5ca\", \"hate_speech_model.h5\", 14650536)"
            ]
          },
          "metadata": {}
        }
      ]
    }
  ],
  "metadata": {
    "kernelspec": {
      "display_name": "Python [conda env:py3-TF2.0]",
      "language": "python",
      "name": "conda-env-py3-TF2.0-py"
    },
    "language_info": {
      "codemirror_mode": {
        "name": "ipython",
        "version": 3
      },
      "file_extension": ".py",
      "mimetype": "text/x-python",
      "name": "python",
      "nbconvert_exporter": "python",
      "pygments_lexer": "ipython3",
      "version": "3.7.7"
    },
    "colab": {
      "provenance": [],
      "include_colab_link": true
    }
  },
  "nbformat": 4,
  "nbformat_minor": 0
}